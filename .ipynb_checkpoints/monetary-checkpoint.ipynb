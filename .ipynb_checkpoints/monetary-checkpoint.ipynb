{
 "cells": [
  {
   "cell_type": "markdown",
   "metadata": {
    "slideshow": {
     "slide_type": "slide"
    }
   },
   "source": [
    "\\title{Monetary Policy and Market} \n",
    "\\author{Jia Liu}\n",
    "\\maketitle"
   ]
  },
  {
   "cell_type": "markdown",
   "metadata": {
    "slideshow": {
     "slide_type": "slide"
    }
   },
   "source": [
    "# 引子\n",
    "\n",
    "- I can't influence the monetary policy and I have no interest in it either. 我影响不了货币政策，我也完全对货币不感兴趣\n",
    "   - 利率(interest rate)，存款准备金利率(reserve ratio)，通货膨胀(inflation), 失业率(unemployement rate)\n",
    "   - 汇率(exchange rate), 对冲基金(hedge fund)\n",
    "- Money had no \"real\" effect on the economy? 经济真实的一面和货币无关？\n",
    "- \"The purpose of studying economics is ... to learn how to avoid being deceived by economists.\""
   ]
  },
  {
   "cell_type": "markdown",
   "metadata": {
    "slideshow": {
     "slide_type": "slide"
    }
   },
   "source": [
    "# Main references\n",
    "<table><tr><td><img src='img/book1.PNG'></td><td><img src='img/book2.PNG'></td></tr></table>"
   ]
  },
  {
   "cell_type": "markdown",
   "metadata": {
    "slideshow": {
     "slide_type": "slide"
    }
   },
   "source": [
    "# Money 货币的职能\n",
    "- Store of value 价值储藏\n",
    "- Medium of exchange 交易媒介\n",
    "- Unit of account 计价单位\n",
    "\n",
    "## 什么是好的货币\n",
    " - 价值稳定性\n",
    " - 便利性"
   ]
  },
  {
   "cell_type": "markdown",
   "metadata": {
    "slideshow": {
     "slide_type": "slide"
    }
   },
   "source": [
    "# Banking and the creation of money 银行与货币的创造过程\n",
    "![taccount](img/t_shape_account.PNG)"
   ]
  },
  {
   "cell_type": "code",
   "execution_count": null,
   "metadata": {
    "slideshow": {
     "slide_type": "slide"
    }
   },
   "outputs": [],
   "source": [
    "deposit = 1000                           # 存款\n",
    "rr = 1/10                                # 存款准备金率 reserved ratio\n",
    "required_reserves = deposit * rr         # 法定准备金\n",
    "# A genometric series, sum(1-rr)^n = 1/(1-rr), 0<rr<1\n",
    "# 0.9^0 + 0.9^1 + 0.9^2 + 0.9^3 + ... + 0.9^n\n",
    "print(\"n=2\", 1000*0.9 + 1000*0.9* 0.9)\n",
    "   \n",
    "n = 100                                  # transaction times 流动性                         \n",
    "a = 1                                    # every term\n",
    "m = 1                                    # 货币乘数 Money multiplier \n",
    "for i in range(n):\n",
    "    if i < 10:\n",
    "        print(\"n=%d, multiplier=%.1f, total=%.1f\" %(i, m, 1000 * m))\n",
    "    a = a * (1-rr)               \n",
    "    m += a                                 \n",
    "\n",
    "total_money = deposit * m   \n",
    "print(\"货币乘数=%.2f，法定准备金=%.1f, Total money = %.1f\" %(m, required_reserves, total_money))\n",
    "# 货币乘数= 1/存款准备金率, i.e. m = 1/rr = 1/0.1 = 10\n"
   ]
  },
  {
   "cell_type": "markdown",
   "metadata": {
    "slideshow": {
     "slide_type": "slide"
    }
   },
   "source": [
    "# 乘数\n",
    "- 货币乘数： 银行体系的贷款活动所创造的货币与政府的央行所创造的货币之比\n",
    "- 银行挤兑与银行假日\n",
    "- M1 现金 （硬通货）活期账户余额\n",
    "- M2 包括M1再加上比如定期存单，也可看作是经过“货币乘数”放大之后的货币量\n"
   ]
  },
  {
   "cell_type": "markdown",
   "metadata": {
    "slideshow": {
     "slide_type": "slide"
    }
   },
   "source": [
    "# Fiscal vs. Monetary Policy\n",
    "- Fiscus, 皇帝的宝库，财政政策，政府开支和税收的政策\n",
    "   - Treasure chest of the emperor, fiscal policy, government spending and taxing\n",
    "- Monetary, 货币政策，一切改变货币总量或借贷利率的政策\n",
    "   - Anything that alters the amount of money in the economy or the interest rate changed for borrowing\n",
    "  "
   ]
  },
  {
   "cell_type": "markdown",
   "metadata": {
    "slideshow": {
     "slide_type": "slide"
    }
   },
   "source": [
    "# Who alters the amount of money\n",
    "- Central bank or Federal Reserve 美国联邦储备委员会\n",
    " <img src='img/money01.PNG'>\n",
    " https://www.youtube.com/watch?v=PHe0bXAIuk0 2013 By Ray Dalio"
   ]
  },
  {
   "cell_type": "markdown",
   "metadata": {
    "slideshow": {
     "slide_type": "slide"
    }
   },
   "source": [
    "# How\n",
    "- Reserve requirement 准备金要求\n",
    "    - 中国人民银行 https://www.ceicdata.com/zh-hans/indicator/china/reserve-requirement-ratio\n",
    "    ![reserve](img/reserve_ratio.PNG)\n",
    "- Discount window 贴现窗口\n",
    "- Open market operation 公开市场操作\n",
    "   - 美联储购买债券，放更多贷款，创造货币\n",
    "   - 售出债券，接受储备支付， 降低基础货币存量\n",
    "   - Contractionary monetary policy 紧缩性货币政策\n",
    "     - 减少货币供给给以降低总需求而采取的措施\n",
    "   - Expansionary monetary policy 扩张性货币政策\n",
    "     - Maintains short-term interest rates at a lower than usual rate or increases the total supply of money\n",
    "- Federal funds rate 联邦基金利率与货币供给\n",
    "- Quantitative easing 量化宽松 按计划直接增加货币供应量"
   ]
  },
  {
   "cell_type": "markdown",
   "metadata": {
    "slideshow": {
     "slide_type": "slide"
    }
   },
   "source": [
    "# 增加或减少货币供应量 - 改变了货币供求的平衡\n",
    "- 流动性偏好模型 liquidity preference model"
   ]
  },
  {
   "cell_type": "code",
   "execution_count": null,
   "metadata": {
    "slideshow": {
     "slide_type": "slide"
    }
   },
   "outputs": [],
   "source": [
    "import numpy as np\n",
    "import matplotlib.pyplot as plt\n",
    "from matplotlib.font_manager import FontProperties\n",
    "\n",
    "%config InlineBackend.figure_format = 'svg'\n",
    "ChineseFont1 = FontProperties(fname = 'C:\\\\Windows\\\\Fonts\\\\simsun.ttc')\n",
    "ax = plt.subplot(111)\n",
    "t = np.arange(0, 10, 0.01)\n",
    "x = np.linspace(0, 10.0, 100)\n",
    "y = np.linspace(0, 10.0, 100)\n",
    "X, Y = np.meshgrid(x,y)\n",
    "F = (X-7)**2 + (Y-7)**2 - 36\n",
    "frame1 = plt.gca()\n",
    "plt.contour(X,Y,F,[0])\n",
    "num = len(t)\n",
    "labels_ms = ['MSc', 'MS', 'MSe']\n",
    "labels_r = ['rc', 'r', 're']\n",
    "i=0\n",
    "for q in [1.5, 3, 4.5]:\n",
    "    x = np.full((num,), q)\n",
    "    line, = plt.plot(x, t, lw=2,label=labels_ms[i])\n",
    "    plt.annotate(labels_ms[i], xy=(q, 0), xytext=(q, 0.1))\n",
    "    c = 7-np.sqrt(36 - (q-7)**2)\n",
    "    t1 = np.arange(0, q, 0.01)\n",
    "    num1 = len(t1)\n",
    "    y1 = np.full((num1,), c)\n",
    "    line4, = plt.plot(t1, y1, '--',lw=2, label=labels_r[i])\n",
    "    plt.annotate(labels_r[i], xy=(0, c), xytext=(0.1, c+0.1))\n",
    "    i+=1\n",
    "\n",
    "plt.annotate('', xy=(1.5, 0.8), xytext=(2.5, 0.8),\n",
    "            arrowprops=dict(facecolor='black', shrink=0.05),)\n",
    "plt.annotate('', xy=(4.2, 0.8), xytext=(3.2, 0.8),\n",
    "            arrowprops=dict(facecolor='black', shrink=0.05),)\n",
    "plt.annotate('Money Demand', xy=(4.8, 1.6), xytext=(5.5, 2.5),\n",
    "            arrowprops=dict(facecolor='black', shrink=0.05),)\n",
    "plt.ylim(0,6)\n",
    "plt.xlim(0,6)          \n",
    "plt.xlabel('Quantity of Money 货币数量', fontproperties = ChineseFont1)\n",
    "plt.ylabel('Interest rate 利率', fontproperties = ChineseFont1)\n",
    "frame1.axes.get_yaxis().set_ticks([])\n",
    "#frame1.axes.get_xaxis().set_ticks([])\n",
    "plt.show()\n"
   ]
  },
  {
   "cell_type": "markdown",
   "metadata": {
    "slideshow": {
     "slide_type": "slide"
    }
   },
   "source": [
    "https://fred.stlouisfed.org/series/M1\n",
    "<img src='img/m1.PNG'>\n",
    "https://fred.stlouisfed.org/series/M2\n",
    "<img src='img/m2.PNG'>"
   ]
  },
  {
   "cell_type": "markdown",
   "metadata": {
    "slideshow": {
     "slide_type": "slide"
    }
   },
   "source": [
    "<img src='img/money02.png'>"
   ]
  },
  {
   "cell_type": "markdown",
   "metadata": {
    "slideshow": {
     "slide_type": "slide"
    }
   },
   "source": [
    "# Exchange rate\n",
    "- A currency's price is its exchange rate\n",
    "   - Floating\n",
    "   - Pegged: 可预测性和稳定性\n",
    "   <table><tr><td><img src='img/yuan.PNG'></td><td><img src='img/dollar.PNG'></td></tr></table>\n",
    "- Oil price vs. Currency price\n",
    "   - 假设政府希望维持汽油价格在一个恒定的水平\n",
    "      - 供大于求：汽油需求低迷，政府需要买进汽油\n",
    "      - 供不应求：政府需要投放更多的汽油到市场上\n",
    "      - 政府需要有一定的汽油储备 （Forigen currency reserve 外汇储备）\n",
    "- Currency Crisis\n",
    "\n"
   ]
  },
  {
   "cell_type": "markdown",
   "metadata": {
    "slideshow": {
     "slide_type": "slide"
    }
   },
   "source": [
    "# 套利： 利用全球各地汇率的差异\n",
    "- 在墨西哥外汇市场将美元兑换成墨西哥比索\n",
    "- 在中国外汇市场将比索换成元\n",
    "- 在欧洲外汇市场将元换成欧元\n",
    "- 在回到美国外汇市场将欧元换成美元"
   ]
  },
  {
   "cell_type": "markdown",
   "metadata": {
    "slideshow": {
     "slide_type": "slide"
    }
   },
   "source": [
    "# Speculators on the attack 进攻的投机者\n",
    "- Floating exchange rate vs. Peg their exchange rate, i.e. fix them at a certain value of a leading currency like dollar\n",
    "   - Speculators: Buy things have no interest to use them but because they think this price is going to rise\n",
    "   - Speculators ran their own companies known as \"hedge funds\" 对冲基金公司 Quantum Fund - George Soros 乔治 索罗斯\n",
    "   - 投资者怀疑一国整体经济是否健康 - 攻击挂钩\n",
    "- 1997由泰铢贬值引发的金融危机"
   ]
  },
  {
   "cell_type": "markdown",
   "metadata": {
    "slideshow": {
     "slide_type": "slide"
    }
   },
   "source": [
    "# Further Reading - 做选择的问题\n",
    "- 想得到什么，什么是限制约束条件？\n",
    "  - scarcity 稀缺性 我们想要的超过我们可以得到的资源\n",
    "- 权衡取舍\n",
    "  - 机会成本(opportunity cost)，为了得到某物而必须放弃的其他物品的价值，ie次优选择的价值\n",
    "  - sunk cost 经济学家把这种已经发生的且无法收回的成本称为 沉没成本\n",
    "    - 边际决策 (marginal decision making): 理性的人会比较一个选择带来的额外收益和额外成本，而不考虑过去选择的相关收益和成本\n",
    "    - 沉没成本不应该对你的边际决策产生任何影响\n",
    "- 其他人会如何反应\n",
    "  - 降低价格？\n",
    "- 为什么其他人没有做这件事\n",
    "  - 效率"
   ]
  },
  {
   "cell_type": "markdown",
   "metadata": {
    "slideshow": {
     "slide_type": "slide"
    }
   },
   "source": [
    "# All comes in cycles\n",
    "<img src='img/debt1.PNG'>\n",
    "From BIG DEBT CRISES by RAY DALIO\n",
    "\n",
    "debt service 债务清偿, 消费者必须清偿的债务支出，通常用它占可支配收入的比重表示"
   ]
  },
  {
   "cell_type": "markdown",
   "metadata": {
    "slideshow": {
     "slide_type": "slide"
    }
   },
   "source": [
    "# Messages from those cycles - Ray Dalio\n",
    "  - \"Don't have debt rise faster than income\n",
    "  \n",
    "  - Don't have income rise faster than productivity\n",
    "\n",
    "  - Do all that you can to raise your productivity\""
   ]
  },
  {
   "cell_type": "markdown",
   "metadata": {
    "slideshow": {
     "slide_type": "slide"
    }
   },
   "source": [
    "# Rerference\n",
    "https://en.wikipedia.org/wiki/Currency_crisis\n",
    "\n",
    "https://en.wikipedia.org/wiki/Monetary_policy\n",
    "\n",
    "https://en.wikipedia.org/wiki/Money_multiplier\n",
    "\n",
    "https://en.wikipedia.org/wiki/Money_supply\n",
    "\n",
    "https://www.economist.com/finance-and-economics/2018/09/20/how-the-yuan-sets-the-tone-in-currency-markets\n",
    "\n",
    "\n",
    "https://www.amazon.com/Little-History-Economics-Histories/dp/030023452X/ref=sr_1_1?ie=UTF8&qid=1549077931&sr=8-1&keywords=a+little+history+of+economics\n",
    "\n",
    "https://www.amazon.com/Economics-McGraw-Hill-Karlan-Assistant-Professor/dp/1259193144/ref=pd_ybh_a_3?_encoding=UTF8&psc=1&refRID=7P0J2N52DV1WHVD8BFV2\n",
    "\n"
   ]
  },
  {
   "cell_type": "code",
   "execution_count": null,
   "metadata": {
    "slideshow": {
     "slide_type": "notes"
    }
   },
   "outputs": [],
   "source": [
    "!jupyter nbconvert monetary.ipynb --to  html_with_toclenvs\n",
    "!jupyter nbconvert monetary.ipynb --to slides --post serve"
   ]
  },
  {
   "cell_type": "markdown",
   "metadata": {
    "slideshow": {
     "slide_type": "slide"
    }
   },
   "source": [
    "# Back up some other interesting points"
   ]
  },
  {
   "cell_type": "markdown",
   "metadata": {
    "slideshow": {
     "slide_type": "slide"
    }
   },
   "source": [
    "# Philips Curve \n",
    "- Model of the unemployment and inflation\n",
    "  - 失业率较高，低通胀 (通胀inflation反映价格增加的速度 how fast prices increase)\n",
    " <img src='img/20171104_WOC123.png'>"
   ]
  },
  {
   "cell_type": "markdown",
   "metadata": {
    "slideshow": {
     "slide_type": "slide"
    }
   },
   "source": [
    "# Inflation\n",
    "- Three elements to explain the inflation\n",
    "   - The price of imports\n",
    "     - Balance of supply and demand globally traded goods (oil price)\n",
    "   - The public’s expectations\n",
    "   - Capacity pressure (or “slack”) in the domestic economy\n",
    "     - The unemployment rate, a measure labour market slack"
   ]
  }
 ],
 "metadata": {
  "author": "Monetary Policy and Market",
  "celltoolbar": "Slideshow",
  "hide_input": false,
  "kernelspec": {
   "display_name": "Python 3",
   "language": "python",
   "name": "python3"
  },
  "language_info": {
   "codemirror_mode": {
    "name": "ipython",
    "version": 3
   },
   "file_extension": ".py",
   "mimetype": "text/x-python",
   "name": "python",
   "nbconvert_exporter": "python",
   "pygments_lexer": "ipython3",
   "version": "3.6.0"
  },
  "latex_envs": {
   "LaTeX_envs_menu_present": true,
   "autoclose": false,
   "autocomplete": true,
   "bibliofile": "biblio.bib",
   "cite_by": "apalike",
   "current_citInitial": 1,
   "eqLabelWithNumbers": true,
   "eqNumInitial": 1,
   "hotkeys": {
    "equation": "Ctrl-E",
    "itemize": "Ctrl-I"
   },
   "labels_anchors": false,
   "latex_user_defs": false,
   "report_style_numbering": false,
   "user_envs_cfg": false
  },
  "toc": {
   "base_numbering": 1,
   "nav_menu": {},
   "number_sections": true,
   "sideBar": true,
   "skip_h1_title": false,
   "title_cell": "Table of Contents",
   "title_sidebar": "Contents",
   "toc_cell": false,
   "toc_position": {
    "height": "calc(100% - 180px)",
    "left": "10px",
    "top": "150px",
    "width": "165px"
   },
   "toc_section_display": true,
   "toc_window_display": true
  }
 },
 "nbformat": 4,
 "nbformat_minor": 2
}
